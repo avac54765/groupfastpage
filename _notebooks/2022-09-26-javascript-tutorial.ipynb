{
 "cells": [
  {
   "cell_type": "markdown",
   "metadata": {},
   "source": [
    "# Learning JavaScript \n",
    "> Using Variables, Functions, Arrays, and JavaScript HTML to make a table.\n",
    "\n",
    "\n",
    "- title: Learning to work with Javascript.\n",
    "- toc: true\n",
    "- comments: true\n",
    "- permalink: /learningjavascript/javascript\n",
    "- image: /images/javascript.webp\n",
    "- categories: [week 5]\n"
   ]
  },
  {
   "cell_type": "markdown",
   "metadata": {},
   "source": [
    "{% include nav_frontend.html %}"
   ]
  },
  {
   "cell_type": "code",
   "execution_count": 22,
   "metadata": {},
   "outputs": [
    {
     "name": "stdout",
     "output_type": "stream",
     "text": [
      "Mr. Mortensen is cool!\n"
     ]
    }
   ],
   "source": [
    "console.log(\"Mr. Mortensen is cool!\"); // console.log displays the parameter (hello word) in the console"
   ]
  },
  {
   "cell_type": "code",
   "execution_count": 23,
   "metadata": {},
   "outputs": [
    {
     "name": "stdout",
     "output_type": "stream",
     "text": [
      "Mr. Mortensen is cool\n"
     ]
    }
   ],
   "source": [
    "var msg = \"Mr. Mortensen is cool\"; // This is defining the message as a variable to be used in the console.log funciton\n",
    "console.log(msg);"
   ]
  },
  {
   "cell_type": "code",
   "execution_count": 24,
   "metadata": {},
   "outputs": [
    {
     "name": "stdout",
     "output_type": "stream",
     "text": [
      "Mr. Mortensen is cool\n"
     ]
    }
   ],
   "source": [
    "function logIt(output) { // this is defining a function, named logIt\n",
    "    console.log(output);\n",
    "}\n",
    "logIt(msg);"
   ]
  },
  {
   "cell_type": "code",
   "execution_count": 25,
   "metadata": {},
   "outputs": [
    {
     "name": "stdout",
     "output_type": "stream",
     "text": [
      "Reuse of logIT\n",
      "Hello, Students!\n",
      "2022\n"
     ]
    }
   ],
   "source": [
    "console.log(\"Reuse of logIT\") \n",
    "logIt(\"Hello, Students!\"); // calls a string\n",
    "logIt(2022) // calls a number"
   ]
  },
  {
   "cell_type": "code",
   "execution_count": 26,
   "metadata": {},
   "outputs": [
    {
     "name": "stdout",
     "output_type": "stream",
     "text": [
      "Looking at dynamic nature of types in JavaScript\n",
      "string ; hello\n",
      "number ; 2020\n",
      "object ; [ 1, 2, 3 ]\n"
     ]
    }
   ],
   "source": [
    "function logItType(output) {\n",
    "    console.log(typeof output, \";\", output); //typeof= type of object\n",
    "}\n",
    "console.log(\"Looking at dynamic nature of types in JavaScript\")\n",
    "logItType(\"hello\"); // String\n",
    "logItType(2020);    // Number\n",
    "logItType([1, 2, 3]);  // Object is generic for this Array, which similar to Python List"
   ]
  },
  {
   "cell_type": "code",
   "execution_count": 27,
   "metadata": {},
   "outputs": [
    {
     "name": "stdout",
     "output_type": "stream",
     "text": [
      "object ; Person {\n",
      "  name: 'Mr M',\n",
      "  ghID: 'jm1021',\n",
      "  classOf: 1977,\n",
      "  haircolor: 'blue',\n",
      "  favfood: 'pasta',\n",
      "  role: 'Teacher' }\n",
      "string ; {\"name\":\"Mr M\",\"ghID\":\"jm1021\",\"classOf\":1977,\"haircolor\":\"blue\",\"favfood\":\"pasta\",\"role\":\"Teacher\"}\n"
     ]
    }
   ],
   "source": [
    "// define a function to hold data for a Person\n",
    "function Person(name, ghID, classOf, haircolor, favfood) {\n",
    "    this.name = name;\n",
    "    this.ghID = ghID;\n",
    "    this.classOf = classOf;\n",
    "    this.haircolor= haircolor;\n",
    "    this.favfood= favfood;\n",
    "    this.role = \"\";\n",
    "}\n",
    "\n",
    "// define a setter for role in Person data\n",
    "Person.prototype.setRole = function(role) {\n",
    "    this.role = role;\n",
    "}\n",
    "\n",
    "// define a JSON conversion \"method\" associated with Person\n",
    "Person.prototype.toJSON = function() {\n",
    "    const obj = {name: this.name, ghID: this.ghID, classOf: this.classOf, haircolor: this.haircolor, favfood: this.favfood, role: this.role};\n",
    "    const json = JSON.stringify(obj);\n",
    "    return json;\n",
    "}\n",
    "\n",
    "// make a new Person and assign to variable teacher\n",
    "var teacher = new Person(\"Mr M\", \"jm1021\", 1977, \"blue\", \"pasta\");\n",
    "teacher.setRole(\"Teacher\");\n",
    "\n",
    "// output of Object and JSON/string associated with Teacher\n",
    "logItType(teacher);  // object type is easy to work with in JavaScript\n",
    "logItType(teacher.toJSON());  // json/string is useful when passing data on internet"
   ]
  },
  {
   "cell_type": "code",
   "execution_count": 28,
   "metadata": {},
   "outputs": [
    {
     "name": "stdout",
     "output_type": "stream",
     "text": [
      "object ; [ Person {\n",
      "    name: 'Mr M',\n",
      "    ghID: 'jm1021',\n",
      "    classOf: 1977,\n",
      "    haircolor: 'blue',\n",
      "    favfood: 'pasta',\n",
      "    role: 'Teacher' },\n",
      "  Person {\n",
      "    name: 'Anthony',\n",
      "    ghID: 'tonyhieu',\n",
      "    classOf: 2022,\n",
      "    haircolor: 'pink',\n",
      "    favfood: 'pizza',\n",
      "    role: 'Student' },\n",
      "  Person {\n",
      "    name: 'Bria',\n",
      "    ghID: 'B-G101',\n",
      "    classOf: 2023,\n",
      "    haircolor: 'blonde',\n",
      "    favfood: 'dirt',\n",
      "    role: 'Student' },\n",
      "  Person {\n",
      "    name: 'Allie',\n",
      "    ghID: 'xiaoa0',\n",
      "    classOf: 2023,\n",
      "    haircolor: 'ginger',\n",
      "    favfood: 'apples',\n",
      "    role: 'Student' },\n",
      "  Person {\n",
      "    name: 'Tigran',\n",
      "    ghID: 'Tigran7',\n",
      "    classOf: 2023,\n",
      "    haircolor: 'black',\n",
      "    favfood: 'chocolate',\n",
      "    role: 'Student' },\n",
      "  Person {\n",
      "    name: 'Rebecca',\n",
      "    ghID: 'Rebecca-123',\n",
      "    classOf: 2023,\n",
      "    haircolor: 'grey',\n",
      "    favfood: 'sushi',\n",
      "    role: 'Student' },\n",
      "  Person {\n",
      "    name: 'Vidhi',\n",
      "    ghID: 'unknown',\n",
      "    classOf: 2024,\n",
      "    haircolor: 'green',\n",
      "    favfood: 'urmom',\n",
      "    role: 'Student' } ]\n",
      "string ; Mr M\n",
      "string ; {\"name\":\"Mr M\",\"ghID\":\"jm1021\",\"classOf\":1977,\"haircolor\":\"blue\",\"favfood\":\"pasta\",\"role\":\"Teacher\"}\n",
      "object ; { name: 'Mr M',\n",
      "  ghID: 'jm1021',\n",
      "  classOf: 1977,\n",
      "  haircolor: 'blue',\n",
      "  favfood: 'pasta',\n",
      "  role: 'Teacher' }\n"
     ]
    }
   ],
   "source": [
    "// define a student Array of Person(s)\n",
    "var students = [ \n",
    "    new Person(\"Anthony\", \"tonyhieu\", 2022, \"pink\", \"pizza\"),\n",
    "    new Person(\"Bria\", \"B-G101\", 2023, \"blonde\", \"dirt\"),\n",
    "    new Person(\"Allie\", \"xiaoa0\", 2023, \"ginger\", \"apples\"),\n",
    "    new Person(\"Tigran\", \"Tigran7\", 2023, \"black\", \"chocolate\"),\n",
    "    new Person(\"Rebecca\", \"Rebecca-123\", 2023, \"grey\", \"sushi\"),\n",
    "    new Person(\"Vidhi\", \"unknown\", 2024, \"green\", \"urmom\")\n",
    "];\n",
    "\n",
    "// define a classroom and build Classroom objects and json\n",
    "function Classroom(teacher, students){ // 1 teacher, many student\n",
    "    // start Classroom with Teacher\n",
    "    teacher.setRole(\"Teacher\");\n",
    "    this.teacher = teacher;\n",
    "    this.classroom = [teacher];\n",
    "    // add each Student to Classroom\n",
    "    this.students = students;\n",
    "    this.students.forEach(student => { student.setRole(\"Student\"); this.classroom.push(student); });\n",
    "    // build json/string format of Classroom\n",
    "    this.json = [];\n",
    "    this.classroom.forEach(person => this.json.push(person.toJSON()));\n",
    "}\n",
    "\n",
    "// make a CompSci classroom from formerly defined teacher and students\n",
    "compsci = new Classroom(teacher, students);\n",
    "\n",
    "// output of Objects and JSON in CompSci classroom\n",
    "logItType(compsci.classroom);  // constructed classroom object\n",
    "logItType(compsci.classroom[0].name);  // abstract 1st objects name\n",
    "logItType(compsci.json[0]);  // show json conversion of 1st object to string\n",
    "logItType(JSON.parse(compsci.json[0]));  // show JSON.parse inverse of JSON.stringify"
   ]
  },
  {
   "cell_type": "markdown",
   "metadata": {},
   "source": [
    "### IJavaScript and Table formatting using toHTML method\n",
    "\n",
    "- The 3-part JavaScript in the _toHTML method\n",
    "    - Style part is building CSS inline formatting\n",
    "    - Body part is constructing the Table Rows (tr), Table Headings (th), and Table Data (td).  The table data is obtained from a Classroom object.  The JavaScript for loop allows the construction of a new row of data for each person object in the Array.\n",
    "    - Return part creates the HTML fragment for rendering\n"
   ]
  },
  {
   "cell_type": "code",
   "execution_count": 29,
   "metadata": {},
   "outputs": [
    {
     "data": {
      "text/html": [
       "<div style='display:inline-block;background:#7E006C;border: 2px solid grey;box-shadow: 0.8em 0.4em 0.4em grey;'><table><tr><th><mark>Name</mark></th><th><mark>GitHub ID</mark></th><th><mark>Class Of</mark></th><th><mark>Hair Color</mark></th><th><mark>Favorite Food</mark></th><th><mark>Role</mark></th></tr><tr><td>Mr M</td><td>jm1021</td><td>1977</td><td>blue</td><td>pasta</td><td>Teacher</td><tr><tr><td>Anthony</td><td>tonyhieu</td><td>2022</td><td>pink</td><td>pizza</td><td>Student</td><tr><tr><td>Bria</td><td>B-G101</td><td>2023</td><td>blonde</td><td>dirt</td><td>Student</td><tr><tr><td>Allie</td><td>xiaoa0</td><td>2023</td><td>ginger</td><td>apples</td><td>Student</td><tr><tr><td>Tigran</td><td>Tigran7</td><td>2023</td><td>black</td><td>chocolate</td><td>Student</td><tr><tr><td>Rebecca</td><td>Rebecca-123</td><td>2023</td><td>grey</td><td>sushi</td><td>Student</td><tr><tr><td>Vidhi</td><td>unknown</td><td>2024</td><td>green</td><td>urmom</td><td>Student</td><tr></table></div>"
      ]
     },
     "execution_count": 29,
     "metadata": {},
     "output_type": "execute_result"
    }
   ],
   "source": [
    "// define an HTML conversion \"method\" associated with Classroom\n",
    "Classroom.prototype._toHtml = function() {\n",
    "  // HTML Style is build using inline structure\n",
    "  var style = (\n",
    "    \"display:inline-block;\" +\n",
    "    \"background:#7E006C;\" +\n",
    "    \"border: 2px solid grey;\" +\n",
    "    \"box-shadow: 0.8em 0.4em 0.4em grey;\" \n",
    "  );\n",
    "\n",
    "  // HTML Body of Table is build as a series of concatenations (+=)\n",
    "  var body = \"\";\n",
    "\n",
    "  // Heading for Array Columns\n",
    "  body += \"<tr>\";\n",
    "  body += \"<th><mark>\" + \"Name\" + \"</mark></th>\";\n",
    "  body += \"<th><mark>\" + \"GitHub ID\" + \"</mark></th>\";\n",
    "  body += \"<th><mark>\" + \"Class Of\" + \"</mark></th>\";\n",
    "  body += \"<th><mark>\" + \"Hair Color\" + \"</mark></th>\";\n",
    "  body += \"<th><mark>\" + \"Favorite Food\" + \"</mark></th>\";\n",
    "  body += \"<th><mark>\" + \"Role\" + \"</mark></th>\";\n",
    "  body += \"</tr>\";\n",
    "  // Data of Array, iterate through each row of compsci.classroom \n",
    "  for (var row of compsci.classroom) {\n",
    "    // tr for each row, a new line\n",
    "    body += \"<tr>\";\n",
    "    // td for each column of data\n",
    "    body += \"<td>\" + row.name + \"</td>\";\n",
    "    body += \"<td>\" + row.ghID + \"</td>\";\n",
    "    body += \"<td>\" + row.classOf + \"</td>\";\n",
    "    body += \"<td>\" + row.haircolor + \"</td>\";\n",
    "    body += \"<td>\" + row.favfood + \"</td>\";\n",
    "    body += \"<td>\" + row.role + \"</td>\";\n",
    "    // tr to end line\n",
    "    body += \"<tr>\";\n",
    "  }\n",
    "\n",
    "   // Build and HTML fragment of div, table, table body\n",
    "  return (\n",
    "    \"<div style='\" + style + \"'>\" +\n",
    "      \"<table>\" +\n",
    "        body +\n",
    "      \"</table>\" +\n",
    "    \"</div>\"\n",
    "  );\n",
    "\n",
    "};\n",
    "\n",
    "// IJavaScript HTML processor receive parameter of defined HTML fragment\n",
    "$$.html(compsci._toHtml());"
   ]
  }
 ],
 "metadata": {
  "kernelspec": {
   "display_name": "JavaScript (Node.js)",
   "language": "javascript",
   "name": "javascript"
  },
  "language_info": {
   "file_extension": ".js",
   "mimetype": "application/javascript",
   "name": "javascript",
   "version": "6.11.2"
  },
  "orig_nbformat": 4
 },
 "nbformat": 4,
 "nbformat_minor": 2
}
