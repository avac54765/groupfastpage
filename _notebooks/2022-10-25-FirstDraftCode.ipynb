{
 "cells": [
  {
   "cell_type": "markdown",
   "metadata": {},
   "source": [
    "# Planning/Drafting Code for Our Final Project\n",
    "> This is where we are starting to write code for out final project. We will then transfer it to our flask page (backend) and develop a way to communicate it to the Fastpage (frontend).\n",
    "- toc: true\n",
    "- comments: true\n",
    "- permalink: /project/code\n",
    "- image: /images/python_restapi.png\n",
    "- type: pbl\n",
    "- week: 9"
   ]
  },
  {
   "cell_type": "code",
   "execution_count": null,
   "metadata": {},
   "outputs": [],
   "source": []
  }
 ],
 "metadata": {
  "kernelspec": {
   "display_name": "Python 3.8.10 64-bit",
   "language": "python",
   "name": "python3"
  },
  "language_info": {
   "name": "python",
   "version": "3.8.10"
  },
  "orig_nbformat": 4,
  "vscode": {
   "interpreter": {
    "hash": "916dbcbb3f70747c44a77c7bcd40155683ae19c65e1c03b4aa3499c5328201f1"
   }
  }
 },
 "nbformat": 4,
 "nbformat_minor": 2
}
