{
 "cells": [
  {
   "cell_type": "markdown",
   "metadata": {},
   "source": [
    "# Group Roles and Scrum Board\n",
    "> The Cool Coders member roles and scrum process.\n",
    "\n",
    "\n",
    "- title: Group Roles and Scrum Board\n",
    "- toc: true\n",
    "- comments: true\n",
    "- permalink: /scrumboard/python\n",
    "- image: /images/teamwork.png\n",
    "- categories: [week 5]\n",
    "\n"
   ]
  },
  {
   "cell_type": "markdown",
   "metadata": {},
   "source": [
    "![scrum board]({{site.baseurl}}/images/scrumboard.png)"
   ]
  },
  {
   "cell_type": "markdown",
   "metadata": {},
   "source": [
    "# Member Roles\n",
    "Below are the roles of our members for sprints and teamwork oriented projects.\n",
    "\n",
    "| Name | Role | Job Description |\n",
    "|---|---|---|\n",
    "| Ava Carlson | Scrum Master | To assign work to each member, keep track of time, ensure work is being completed. |\n",
    "| Alexa Carlson | | |\n",
    "| Shruthi | | |\n",
    "| Antony | | |\n"
   ]
  }
 ],
 "metadata": {
  "kernelspec": {
   "display_name": "Python 3.8.10 64-bit",
   "language": "python",
   "name": "python3"
  },
  "language_info": {
   "name": "python",
   "version": "3.8.10"
  },
  "orig_nbformat": 4,
  "vscode": {
   "interpreter": {
    "hash": "916dbcbb3f70747c44a77c7bcd40155683ae19c65e1c03b4aa3499c5328201f1"
   }
  }
 },
 "nbformat": 4,
 "nbformat_minor": 2
}
